{
 "cells": [
  {
   "cell_type": "code",
   "execution_count": 7,
   "id": "a92b0540-00c1-4a2b-853e-4921431646f6",
   "metadata": {},
   "outputs": [],
   "source": [
    "import functools\n",
    "import time\n",
    "import numpy as np\n",
    "import pandas as pd\n",
    "import platform\n",
    "import sys\n",
    "import multiprocessing\n",
    "import pickle\n",
    "import time\n",
    "import uuid\n",
    "import functools\n",
    "import datetime\n",
    "import re\n",
    "\n",
    "\n",
    "from sth_simulation.helsim_RUN import STH_Simulation\n",
    "\n",
    "def timer(func):\n",
    "\t @functools.wraps(func)\n",
    "\t def wrapper_timer(*args, **kwargs):\n",
    "\t \t print(f\"-> Running {func.__name__!r}\")\n",
    "\t \t start_time = time.perf_counter()    # 1\n",
    "\t \t value = func(*args, **kwargs)\n",
    "\t \t end_time = time.perf_counter()      # 2\n",
    "\t \t run_time = end_time - start_time    # 3\n",
    "\t \t print(f\"=> Finished {func.__name__!r} in {run_time:.4f} secs\\n\\n\")\n",
    "\t \t return value\n",
    "\t return wrapper_timer\n",
    "\n",
    "@timer\n",
    "def future_run():\n",
    "\t STH_Simulation(paramFileName='AscarisParameters_high.txt',\n",
    "\t \t \t \t demogName='WHOGeneric',\n",
    "\t \t \t \t MDAFilePath='projections_111121a/STH_MDA_111121a.csv',\n",
    "\t \t \t \t prevKKSACFilePath='projections_111121a/PrevKKSAC_Asc_111121a_BDI06396.csv',\n",
    "\t \t \t \t prevMHISACFilePath='projections_111121a/PrevMHISAC_Asc_111121a_BDI06396.csv',\n",
    "\t \t \t \t RkFilePath='output/scen145/Input_Rk_Asc_BDI06396.csv',\n",
    "\t \t \t \t nYears=23,\n",
    "\t \t \t \t outputFrequency=1,\n",
    "\t \t \t \t numReps=None,\n",
    "\t \t \t \t SaveOutput=False,\n",
    "\t \t \t \t OutSimFilePath=None,\n",
    "\t \t \t \t InSimFilePath=None)\n",
    "\n",
    "@timer\n",
    "def future_run_from2018():\n",
    "\t STH_Simulation(paramFileName='AscarisParameters_high.txt',\n",
    "\t \t \t \t demogName='WHOGeneric',\n",
    "\t \t \t \t MDAFilePath='projections_111121a/STH_MDA_111121a.csv',\n",
    "\t \t \t \t prevKKSACFilePath='projections_111121a/PrevKKSAC_Asc_111121a_BDI06396.csv',\n",
    "\t \t \t \t prevMHISACFilePath='projections_111121a/PrevMHISAC_Asc_111121a_BDI06396.csv',\n",
    "\t \t \t \t RkFilePath='output/scen145/Input_Rk_Asc_BDI06396.csv',\n",
    "\t \t \t \t nYears=17,\n",
    "\t \t \t \t outputFrequency=1,\n",
    "\t \t \t \t numReps=None,\n",
    "\t \t \t \t SaveOutput=False,\n",
    "\t \t \t \t OutSimFilePath=None,\n",
    "\t \t \t \t InSimFilePath='output/scen145/Asc_BDI06396.p'),"
   ]
  },
  {
   "cell_type": "code",
   "execution_count": 8,
   "id": "eda13237-79ae-4c8d-b89d-8164ac444f6f",
   "metadata": {},
   "outputs": [
    {
     "ename": "KeyError",
     "evalue": "'logger'",
     "output_type": "error",
     "traceback": [
      "\u001b[0;31m---------------------------------------------------------------------------\u001b[0m",
      "\u001b[0;31mKeyError\u001b[0m                                  Traceback (most recent call last)",
      "\u001b[0;32m/var/folders/gs/92yp4bjs11j6g7yd16pm_kbh0000gn/T/ipykernel_80732/3434284091.py\u001b[0m in \u001b[0;36m<module>\u001b[0;34m\u001b[0m\n\u001b[0;32m----> 1\u001b[0;31m STH_Simulation(paramFileName='AscarisParameters_moderate.txt',\n\u001b[0m\u001b[1;32m      2\u001b[0m                \u001b[0mdemogName\u001b[0m\u001b[0;34m=\u001b[0m\u001b[0;34m'KenyaKDHS'\u001b[0m\u001b[0;34m,\u001b[0m\u001b[0;34m\u001b[0m\u001b[0;34m\u001b[0m\u001b[0m\n\u001b[1;32m      3\u001b[0m                \u001b[0mMDAFilePath\u001b[0m\u001b[0;34m=\u001b[0m\u001b[0;34m'files/Input_MDA_23Oct20.csv'\u001b[0m\u001b[0;34m,\u001b[0m\u001b[0;34m\u001b[0m\u001b[0;34m\u001b[0m\u001b[0m\n\u001b[1;32m      4\u001b[0m                \u001b[0mprevKKSACFilePath\u001b[0m\u001b[0;34m=\u001b[0m\u001b[0;34m'files/OutputPrevKKSAC_STH_test_1a.csv'\u001b[0m\u001b[0;34m,\u001b[0m\u001b[0;34m\u001b[0m\u001b[0;34m\u001b[0m\u001b[0m\n\u001b[1;32m      5\u001b[0m                \u001b[0mprevMHISACFilePath\u001b[0m\u001b[0;34m=\u001b[0m\u001b[0;34m'files/OutputPrevMHISAC_STH_test_1a.csv'\u001b[0m\u001b[0;34m,\u001b[0m\u001b[0;34m\u001b[0m\u001b[0;34m\u001b[0m\u001b[0m\n",
      "\u001b[0;32m~/opt/anaconda3/lib/python3.8/site-packages/sth_simulation/helsim_RUN.py\u001b[0m in \u001b[0;36mwrapper_timer\u001b[0;34m(*args, **kwargs)\u001b[0m\n\u001b[1;32m     17\u001b[0m         \u001b[0mrun_uuid\u001b[0m \u001b[0;34m=\u001b[0m \u001b[0muuid\u001b[0m\u001b[0;34m.\u001b[0m\u001b[0muuid4\u001b[0m\u001b[0;34m(\u001b[0m\u001b[0;34m)\u001b[0m\u001b[0;34m\u001b[0m\u001b[0;34m\u001b[0m\u001b[0m\n\u001b[1;32m     18\u001b[0m         \u001b[0mstart_time\u001b[0m \u001b[0;34m=\u001b[0m \u001b[0mtime\u001b[0m\u001b[0;34m.\u001b[0m\u001b[0mperf_counter\u001b[0m\u001b[0;34m(\u001b[0m\u001b[0;34m)\u001b[0m    \u001b[0;31m# 1\u001b[0m\u001b[0;34m\u001b[0m\u001b[0;34m\u001b[0m\u001b[0m\n\u001b[0;32m---> 19\u001b[0;31m         \u001b[0mprint_function\u001b[0m \u001b[0;34m=\u001b[0m \u001b[0mkwargs\u001b[0m\u001b[0;34m[\u001b[0m \u001b[0;34m'logger'\u001b[0m \u001b[0;34m]\u001b[0m\u001b[0;34m.\u001b[0m\u001b[0minfo\u001b[0m \u001b[0;32mif\u001b[0m \u001b[0mkwargs\u001b[0m\u001b[0;34m[\u001b[0m \u001b[0;34m'logger'\u001b[0m \u001b[0;34m]\u001b[0m \u001b[0;32mis\u001b[0m \u001b[0;32mnot\u001b[0m \u001b[0;32mNone\u001b[0m \u001b[0;32melse\u001b[0m \u001b[0mprint\u001b[0m\u001b[0;34m\u001b[0m\u001b[0;34m\u001b[0m\u001b[0m\n\u001b[0m\u001b[1;32m     20\u001b[0m         \u001b[0mprint_function\u001b[0m\u001b[0;34m(\u001b[0m\u001b[0;34mf\"Timer {run_uuid} running {func.__name__!r}, starting at {datetime.datetime.now()}\"\u001b[0m\u001b[0;34m)\u001b[0m\u001b[0;34m\u001b[0m\u001b[0;34m\u001b[0m\u001b[0m\n\u001b[1;32m     21\u001b[0m         \u001b[0mvalue\u001b[0m \u001b[0;34m=\u001b[0m \u001b[0mfunc\u001b[0m\u001b[0;34m(\u001b[0m\u001b[0;34m*\u001b[0m\u001b[0margs\u001b[0m\u001b[0;34m,\u001b[0m \u001b[0;34m**\u001b[0m\u001b[0mkwargs\u001b[0m\u001b[0;34m)\u001b[0m\u001b[0;34m\u001b[0m\u001b[0;34m\u001b[0m\u001b[0m\n",
      "\u001b[0;31mKeyError\u001b[0m: 'logger'"
     ]
    }
   ],
   "source": [
    "STH_Simulation(paramFileName='AscarisParameters_moderate.txt',\n",
    "               demogName='KenyaKDHS',\n",
    "               MDAFilePath='files/Input_MDA_23Oct20.csv',\n",
    "               prevKKSACFilePath='files/OutputPrevKKSAC_STH_test_1a.csv',\n",
    "               prevMHISACFilePath='files/OutputPrevMHISAC_STH_test_1a.csv',\n",
    "               RkFilePath='files/InputRk_STH.csv',\n",
    "               nYears=7,\n",
    "               outputFrequency=12,\n",
    "               numReps=None,\n",
    "               SaveOutput=False,\n",
    "               OutSimFilePath=None,\n",
    "               InSimFilePath=None)"
   ]
  },
  {
   "cell_type": "code",
   "execution_count": 6,
   "id": "79cf90de-7460-4fe8-9260-3284f291f797",
   "metadata": {},
   "outputs": [
    {
     "ename": "KeyError",
     "evalue": "'logger'",
     "output_type": "error",
     "traceback": [
      "\u001b[0;31m---------------------------------------------------------------------------\u001b[0m",
      "\u001b[0;31mKeyError\u001b[0m                                  Traceback (most recent call last)",
      "\u001b[0;32m/var/folders/gs/92yp4bjs11j6g7yd16pm_kbh0000gn/T/ipykernel_80732/686321999.py\u001b[0m in \u001b[0;36m<module>\u001b[0;34m\u001b[0m\n\u001b[0;32m----> 1\u001b[0;31m \u001b[0mSTH_Simulation\u001b[0m\u001b[0;34m(\u001b[0m\u001b[0;34m)\u001b[0m\u001b[0;34m\u001b[0m\u001b[0;34m\u001b[0m\u001b[0m\n\u001b[0m",
      "\u001b[0;32m~/opt/anaconda3/lib/python3.8/site-packages/sth_simulation/helsim_RUN.py\u001b[0m in \u001b[0;36mwrapper_timer\u001b[0;34m(*args, **kwargs)\u001b[0m\n\u001b[1;32m     17\u001b[0m         \u001b[0mrun_uuid\u001b[0m \u001b[0;34m=\u001b[0m \u001b[0muuid\u001b[0m\u001b[0;34m.\u001b[0m\u001b[0muuid4\u001b[0m\u001b[0;34m(\u001b[0m\u001b[0;34m)\u001b[0m\u001b[0;34m\u001b[0m\u001b[0;34m\u001b[0m\u001b[0m\n\u001b[1;32m     18\u001b[0m         \u001b[0mstart_time\u001b[0m \u001b[0;34m=\u001b[0m \u001b[0mtime\u001b[0m\u001b[0;34m.\u001b[0m\u001b[0mperf_counter\u001b[0m\u001b[0;34m(\u001b[0m\u001b[0;34m)\u001b[0m    \u001b[0;31m# 1\u001b[0m\u001b[0;34m\u001b[0m\u001b[0;34m\u001b[0m\u001b[0m\n\u001b[0;32m---> 19\u001b[0;31m         \u001b[0mprint_function\u001b[0m \u001b[0;34m=\u001b[0m \u001b[0mkwargs\u001b[0m\u001b[0;34m[\u001b[0m \u001b[0;34m'logger'\u001b[0m \u001b[0;34m]\u001b[0m\u001b[0;34m.\u001b[0m\u001b[0minfo\u001b[0m \u001b[0;32mif\u001b[0m \u001b[0mkwargs\u001b[0m\u001b[0;34m[\u001b[0m \u001b[0;34m'logger'\u001b[0m \u001b[0;34m]\u001b[0m \u001b[0;32mis\u001b[0m \u001b[0;32mnot\u001b[0m \u001b[0;32mNone\u001b[0m \u001b[0;32melse\u001b[0m \u001b[0mprint\u001b[0m\u001b[0;34m\u001b[0m\u001b[0;34m\u001b[0m\u001b[0m\n\u001b[0m\u001b[1;32m     20\u001b[0m         \u001b[0mprint_function\u001b[0m\u001b[0;34m(\u001b[0m\u001b[0;34mf\"Timer {run_uuid} running {func.__name__!r}, starting at {datetime.datetime.now()}\"\u001b[0m\u001b[0;34m)\u001b[0m\u001b[0;34m\u001b[0m\u001b[0;34m\u001b[0m\u001b[0m\n\u001b[1;32m     21\u001b[0m         \u001b[0mvalue\u001b[0m \u001b[0;34m=\u001b[0m \u001b[0mfunc\u001b[0m\u001b[0;34m(\u001b[0m\u001b[0;34m*\u001b[0m\u001b[0margs\u001b[0m\u001b[0;34m,\u001b[0m \u001b[0;34m**\u001b[0m\u001b[0mkwargs\u001b[0m\u001b[0;34m)\u001b[0m\u001b[0;34m\u001b[0m\u001b[0;34m\u001b[0m\u001b[0m\n",
      "\u001b[0;31mKeyError\u001b[0m: 'logger'"
     ]
    }
   ],
   "source": [
    "STH_Simulation()"
   ]
  },
  {
   "cell_type": "code",
   "execution_count": null,
   "id": "92c65fea-f0c0-4150-ba09-ca815bf98877",
   "metadata": {},
   "outputs": [],
   "source": []
  }
 ],
 "metadata": {
  "kernelspec": {
   "display_name": "Python 3 (ipykernel)",
   "language": "python",
   "name": "python3"
  },
  "language_info": {
   "codemirror_mode": {
    "name": "ipython",
    "version": 3
   },
   "file_extension": ".py",
   "mimetype": "text/x-python",
   "name": "python",
   "nbconvert_exporter": "python",
   "pygments_lexer": "ipython3",
   "version": "3.8.12"
  }
 },
 "nbformat": 4,
 "nbformat_minor": 5
}
